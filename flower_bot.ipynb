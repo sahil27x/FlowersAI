{
 "cells": [
  {
   "cell_type": "code",
   "execution_count": 1,
   "metadata": {
    "collapsed": true
   },
   "outputs": [],
   "source": [
    "#importing modules\n",
    "from PIL import Image \n",
    "import numpy as np\n",
    "import os\n",
    "import cv2"
   ]
  },
  {
   "cell_type": "code",
   "execution_count": 2,
   "metadata": {
    "collapsed": true
   },
   "outputs": [],
   "source": [
    "data=[] #feature vector\n",
    "labels=[] #target vector"
   ]
  },
  {
   "cell_type": "code",
   "execution_count": 3,
   "metadata": {},
   "outputs": [
    {
     "data": {
      "text/plain": [
       "['.DS_Store',\n",
       " '.ipynb_checkpoints',\n",
       " 'daisy',\n",
       " 'flower_bot.ipynb',\n",
       " 'flowers.npy',\n",
       " 'labels.npy',\n",
       " 'roses',\n",
       " 'sunflowers',\n",
       " 'testimage.jpg',\n",
       " 'testimage2.jpg']"
      ]
     },
     "execution_count": 3,
     "metadata": {},
     "output_type": "execute_result"
    }
   ],
   "source": [
    "os.listdir() #list of directory"
   ]
  },
  {
   "cell_type": "code",
   "execution_count": 70,
   "metadata": {
    "collapsed": true
   },
   "outputs": [],
   "source": [
    "# converting images into numpy array\n",
    "\n",
    "roses=os.listdir(\"roses\")\n",
    "for rose in roses:\n",
    "    if rose==\".DS_Store\":\n",
    "        continue\n",
    "    imag=cv2.imread(\"roses/\"+rose)\n",
    "    img_from_ar = Image.fromarray(imag, 'RGB')\n",
    "    resized_image = img_from_ar.resize((50, 50))\n",
    "    data.append(np.array(resized_image))\n",
    "    labels.append(0)"
   ]
  },
  {
   "cell_type": "code",
   "execution_count": 71,
   "metadata": {},
   "outputs": [
    {
     "name": "stdout",
     "output_type": "stream",
     "text": [
      "[[[12 23 15]\n",
      "  [ 5 21 10]\n",
      "  [ 3 18 10]\n",
      "  ..., \n",
      "  [32 51 36]\n",
      "  [20 46 30]\n",
      "  [23 45 33]]\n",
      "\n",
      " [[17 30 22]\n",
      "  [11 25 14]\n",
      "  [16 25 12]\n",
      "  ..., \n",
      "  [26 49 34]\n",
      "  [17 43 27]\n",
      "  [25 47 29]]\n",
      "\n",
      " [[15 26 16]\n",
      "  [18 32 20]\n",
      "  [23 38 24]\n",
      "  ..., \n",
      "  [ 0  6  3]\n",
      "  [ 4 17  9]\n",
      "  [20 41 26]]\n",
      "\n",
      " ..., \n",
      " [[ 6 18 12]\n",
      "  [ 5 12  5]\n",
      "  [ 9 16  9]\n",
      "  ..., \n",
      "  [ 2  9  2]\n",
      "  [11 21  8]\n",
      "  [ 9 19  7]]\n",
      "\n",
      " [[ 3 14  6]\n",
      "  [ 0  5  3]\n",
      "  [ 2  6  0]\n",
      "  ..., \n",
      "  [ 3  8  6]\n",
      "  [11 19 12]\n",
      "  [ 0  1  0]]\n",
      "\n",
      " [[14 24 18]\n",
      "  [13 21 11]\n",
      "  [ 2 10  0]\n",
      "  ..., \n",
      "  [ 3 10  5]\n",
      "  [ 0  4  0]\n",
      "  [ 0  8  1]]]\n"
     ]
    }
   ],
   "source": [
    "print(data[0])"
   ]
  },
  {
   "cell_type": "code",
   "execution_count": 72,
   "metadata": {},
   "outputs": [
    {
     "name": "stdout",
     "output_type": "stream",
     "text": [
      "0\n"
     ]
    }
   ],
   "source": [
    "print(labels[0])"
   ]
  },
  {
   "cell_type": "code",
   "execution_count": 73,
   "metadata": {},
   "outputs": [
    {
     "name": "stdout",
     "output_type": "stream",
     "text": [
      "(50, 50, 3)\n"
     ]
    }
   ],
   "source": [
    "#dimension of array\n",
    "print(data[0].shape)"
   ]
  },
  {
   "cell_type": "code",
   "execution_count": 74,
   "metadata": {
    "collapsed": true
   },
   "outputs": [],
   "source": [
    "daisy=os.listdir(\"daisy\")\n",
    "for dsy in daisy:\n",
    "    if dsy==\".DS_Store\":\n",
    "        continue\n",
    "    imag=cv2.imread(\"daisy/\"+dsy)\n",
    "    img_from_ar = Image.fromarray(imag, 'RGB')\n",
    "    resized_image = img_from_ar.resize((50, 50))\n",
    "    data.append(np.array(resized_image))\n",
    "    labels.append(1)"
   ]
  },
  {
   "cell_type": "code",
   "execution_count": null,
   "metadata": {
    "collapsed": true
   },
   "outputs": [],
   "source": []
  },
  {
   "cell_type": "code",
   "execution_count": 75,
   "metadata": {
    "collapsed": true
   },
   "outputs": [],
   "source": [
    "sunflowers=os.listdir(\"sunflowers\")\n",
    "for sf in sunflowers:\n",
    "    if sf==\".DS_Store\":\n",
    "        continue\n",
    "    imag=cv2.imread(\"sunflowers/\"+sf)\n",
    "    img_from_ar = Image.fromarray(imag, 'RGB')\n",
    "    resized_image = img_from_ar.resize((50, 50))\n",
    "    data.append(np.array(resized_image))\n",
    "    labels.append(2)"
   ]
  },
  {
   "cell_type": "code",
   "execution_count": 76,
   "metadata": {
    "collapsed": true
   },
   "outputs": [],
   "source": [
    "#convert list into numpy array\n",
    "flowers = np.array(data)\n",
    "labels = np.array(labels)"
   ]
  },
  {
   "cell_type": "code",
   "execution_count": null,
   "metadata": {
    "collapsed": true
   },
   "outputs": [],
   "source": [
    "#saving the numpy array\n",
    "np.save(\"flowers\",flowers)\n",
    "np.save(\"labels\",labels)"
   ]
  },
  {
   "cell_type": "code",
   "execution_count": 4,
   "metadata": {
    "collapsed": true
   },
   "outputs": [],
   "source": [
    "#loading the array/vector\n",
    "flowers = np.load(\"flowers.npy\")\n",
    "labels = np.load(\"labels.npy\")"
   ]
  },
  {
   "cell_type": "code",
   "execution_count": 5,
   "metadata": {
    "collapsed": true
   },
   "outputs": [],
   "source": [
    "#shuffling the dataset\n",
    "s=np.arange(flowers.shape[0])\n",
    "np.random.shuffle(s)\n",
    "flowers=flowers[s]\n",
    "labels=labels[s]"
   ]
  },
  {
   "cell_type": "code",
   "execution_count": 6,
   "metadata": {},
   "outputs": [
    {
     "name": "stdout",
     "output_type": "stream",
     "text": [
      "3\n"
     ]
    }
   ],
   "source": [
    "num_classes=len(np.unique(labels))\n",
    "print(num_classes)\n",
    "data_length=len(flowers)"
   ]
  },
  {
   "cell_type": "code",
   "execution_count": 7,
   "metadata": {
    "collapsed": true
   },
   "outputs": [],
   "source": [
    "#splitting the data into train and test\n",
    "\n",
    "(x_train,x_test)=flowers[(int)(0.1*data_length):],flowers[:(int)(0.1*data_length)]\n",
    "x_train = x_train.astype('float32')/255\n",
    "x_test = x_test.astype('float32')/255\n",
    "train_length=len(x_train)\n",
    "test_length=len(x_test)"
   ]
  },
  {
   "cell_type": "code",
   "execution_count": 8,
   "metadata": {
    "collapsed": true
   },
   "outputs": [],
   "source": [
    "(y_train,y_test)=labels[(int)(0.1*data_length):],labels[:(int)(0.1*data_length)]"
   ]
  },
  {
   "cell_type": "code",
   "execution_count": 9,
   "metadata": {},
   "outputs": [
    {
     "name": "stderr",
     "output_type": "stream",
     "text": [
      "Using TensorFlow backend.\n"
     ]
    }
   ],
   "source": [
    "#importing keras\n",
    "import keras\n",
    "from keras.utils import np_utils"
   ]
  },
  {
   "cell_type": "code",
   "execution_count": 10,
   "metadata": {
    "collapsed": true
   },
   "outputs": [],
   "source": [
    "#One hot encoding\n",
    "y_train=keras.utils.to_categorical(y_train,num_classes)\n",
    "y_test=keras.utils.to_categorical(y_test,num_classes)"
   ]
  },
  {
   "cell_type": "code",
   "execution_count": 11,
   "metadata": {},
   "outputs": [
    {
     "name": "stdout",
     "output_type": "stream",
     "text": [
      "_________________________________________________________________\n",
      "Layer (type)                 Output Shape              Param #   \n",
      "=================================================================\n",
      "conv2d_1 (Conv2D)            (None, 50, 50, 16)        208       \n",
      "_________________________________________________________________\n",
      "max_pooling2d_1 (MaxPooling2 (None, 25, 25, 16)        0         \n",
      "_________________________________________________________________\n",
      "conv2d_2 (Conv2D)            (None, 25, 25, 32)        2080      \n",
      "_________________________________________________________________\n",
      "max_pooling2d_2 (MaxPooling2 (None, 12, 12, 32)        0         \n",
      "_________________________________________________________________\n",
      "conv2d_3 (Conv2D)            (None, 12, 12, 64)        8256      \n",
      "_________________________________________________________________\n",
      "max_pooling2d_3 (MaxPooling2 (None, 6, 6, 64)          0         \n",
      "_________________________________________________________________\n",
      "dropout_1 (Dropout)          (None, 6, 6, 64)          0         \n",
      "_________________________________________________________________\n",
      "flatten_1 (Flatten)          (None, 2304)              0         \n",
      "_________________________________________________________________\n",
      "dense_1 (Dense)              (None, 500)               1152500   \n",
      "_________________________________________________________________\n",
      "dropout_2 (Dropout)          (None, 500)               0         \n",
      "_________________________________________________________________\n",
      "dense_2 (Dense)              (None, 3)                 1503      \n",
      "=================================================================\n",
      "Total params: 1,164,547\n",
      "Trainable params: 1,164,547\n",
      "Non-trainable params: 0\n",
      "_________________________________________________________________\n"
     ]
    }
   ],
   "source": [
    "# import sequential model and all the required layers\n",
    "from keras.models import Sequential\n",
    "from keras.layers import Conv2D,MaxPooling2D,Dense,Flatten,Dropout\n",
    "#make model\n",
    "model=Sequential()\n",
    "model.add(Conv2D(filters=16,kernel_size=2,padding=\"same\",activation=\"relu\",input_shape=(50,50,3)))\n",
    "model.add(MaxPooling2D(pool_size=2))\n",
    "model.add(Conv2D(filters=32,kernel_size=2,padding=\"same\",activation=\"relu\"))\n",
    "model.add(MaxPooling2D(pool_size=2))\n",
    "model.add(Conv2D(filters=64,kernel_size=2,padding=\"same\",activation=\"relu\"))\n",
    "model.add(MaxPooling2D(pool_size=2))\n",
    "model.add(Dropout(0.2))\n",
    "model.add(Flatten())\n",
    "model.add(Dense(500,activation=\"relu\"))\n",
    "model.add(Dropout(0.2))\n",
    "model.add(Dense(3,activation=\"softmax\"))\n",
    "model.summary()"
   ]
  },
  {
   "cell_type": "code",
   "execution_count": 12,
   "metadata": {
    "collapsed": true
   },
   "outputs": [],
   "source": [
    "# compile the model\n",
    "model.compile(loss='categorical_crossentropy', optimizer='adam', \n",
    "                  metrics=['accuracy'])"
   ]
  },
  {
   "cell_type": "code",
   "execution_count": 13,
   "metadata": {},
   "outputs": [
    {
     "name": "stdout",
     "output_type": "stream",
     "text": [
      "Epoch 1/20\n",
      "1776/1776 [==============================] - 4s - loss: 0.8358 - acc: 0.6070     \n",
      "Epoch 2/20\n",
      "1776/1776 [==============================] - 5s - loss: 0.5178 - acc: 0.7894     \n",
      "Epoch 3/20\n",
      "1776/1776 [==============================] - 4s - loss: 0.4792 - acc: 0.8069     \n",
      "Epoch 4/20\n",
      "1776/1776 [==============================] - 5s - loss: 0.4338 - acc: 0.8238     \n",
      "Epoch 5/20\n",
      "1776/1776 [==============================] - 5s - loss: 0.3805 - acc: 0.8508     \n",
      "Epoch 6/20\n",
      "1776/1776 [==============================] - 4s - loss: 0.3183 - acc: 0.8705     \n",
      "Epoch 7/20\n",
      "1776/1776 [==============================] - 4s - loss: 0.3049 - acc: 0.8840     \n",
      "Epoch 8/20\n",
      "1776/1776 [==============================] - 5s - loss: 0.2815 - acc: 0.8902     \n",
      "Epoch 9/20\n",
      "1776/1776 [==============================] - 5s - loss: 0.2423 - acc: 0.9048     \n",
      "Epoch 10/20\n",
      "1776/1776 [==============================] - 4s - loss: 0.2342 - acc: 0.9110     \n",
      "Epoch 11/20\n",
      "1776/1776 [==============================] - 4s - loss: 0.2299 - acc: 0.9093     \n",
      "Epoch 12/20\n",
      "1776/1776 [==============================] - 4s - loss: 0.2320 - acc: 0.9071     \n",
      "Epoch 13/20\n",
      "1776/1776 [==============================] - 4s - loss: 0.1688 - acc: 0.9414     \n",
      "Epoch 14/20\n",
      "1776/1776 [==============================] - 4s - loss: 0.1514 - acc: 0.9437     \n",
      "Epoch 15/20\n",
      "1776/1776 [==============================] - 4s - loss: 0.1231 - acc: 0.9645     \n",
      "Epoch 16/20\n",
      "1776/1776 [==============================] - 4s - loss: 0.1094 - acc: 0.9628     \n",
      "Epoch 17/20\n",
      "1776/1776 [==============================] - 4s - loss: 0.1038 - acc: 0.9645     \n",
      "Epoch 18/20\n",
      "1776/1776 [==============================] - 4s - loss: 0.0886 - acc: 0.9735     \n",
      "Epoch 19/20\n",
      "1776/1776 [==============================] - 4s - loss: 0.0819 - acc: 0.9707     \n",
      "Epoch 20/20\n",
      "1776/1776 [==============================] - 4s - loss: 0.0619 - acc: 0.9814     \n"
     ]
    },
    {
     "data": {
      "text/plain": [
       "<keras.callbacks.History at 0x1348bad68>"
      ]
     },
     "execution_count": 13,
     "metadata": {},
     "output_type": "execute_result"
    }
   ],
   "source": [
    "#Training begans from here!\n",
    "model.fit(x_train,y_train,batch_size=50\n",
    "          ,epochs=20,verbose=1)"
   ]
  },
  {
   "cell_type": "code",
   "execution_count": 14,
   "metadata": {},
   "outputs": [
    {
     "name": "stdout",
     "output_type": "stream",
     "text": [
      "160/197 [=======================>......] - ETA: 0s\n",
      " Test accuracy: 0.847715736041\n"
     ]
    }
   ],
   "source": [
    "#accuracy check\n",
    "score = model.evaluate(x_test, y_test, verbose=1)\n",
    "print('\\n', 'Test accuracy:', score[1])"
   ]
  },
  {
   "cell_type": "code",
   "execution_count": 15,
   "metadata": {
    "collapsed": true
   },
   "outputs": [],
   "source": [
    "from keras.models import model_from_json"
   ]
  },
  {
   "cell_type": "code",
   "execution_count": 17,
   "metadata": {},
   "outputs": [
    {
     "name": "stdout",
     "output_type": "stream",
     "text": [
      "Saved model to disk\n"
     ]
    }
   ],
   "source": [
    "# serialize model to JSON\n",
    "model_json = model.to_json()\n",
    "with open(\"flower_model.json\", \"w\") as json_file:\n",
    "    json_file.write(model_json)\n",
    "# serialize weights to HDF5\n",
    "model.save_weights(\"flower_model.h5\")\n",
    "print(\"Saved model to disk\")"
   ]
  },
  {
   "cell_type": "code",
   "execution_count": 18,
   "metadata": {},
   "outputs": [
    {
     "name": "stdout",
     "output_type": "stream",
     "text": [
      "Loaded model from disk\n"
     ]
    }
   ],
   "source": [
    "# load json and create model\n",
    "json_file = open('flower_model.json', 'r')\n",
    "loaded_model_json = json_file.read()\n",
    "json_file.close()\n",
    "loaded_model = model_from_json(loaded_model_json)\n",
    "# load weights into new model\n",
    "loaded_model.load_weights(\"flower_model.h5\")\n",
    "print(\"Loaded model from disk\")"
   ]
  },
  {
   "cell_type": "code",
   "execution_count": 19,
   "metadata": {
    "collapsed": true
   },
   "outputs": [],
   "source": [
    "def convert_to_array(img):\n",
    "    im = cv2.imread(img)\n",
    "    img = Image.fromarray(im, 'RGB')\n",
    "    image = img.resize((50, 50))\n",
    "    return np.array(image)\n",
    "\n",
    "def get_flower_name(label):\n",
    "    if label==0:\n",
    "        return \"ROSE\"\n",
    "    if label==1:\n",
    "        return \"DAISY\"\n",
    "    if label==2:\n",
    "        return \"SUNFLOWER\"\n",
    "    \n",
    "def predict_flower(file):\n",
    "    print(\"Predicting .................................\")\n",
    "    ar=convert_to_array(file)\n",
    "    ar=ar/255\n",
    "    label=1\n",
    "    a=[]\n",
    "    a.append(ar)\n",
    "    a=np.array(a)\n",
    "    score=loaded_model.predict(a,verbose=1)\n",
    "    print(score)\n",
    "    label_index=np.argmax(score)\n",
    "    print(label_index)\n",
    "    acc=np.max(score)\n",
    "    flower=get_flower_name(label_index)\n",
    "    print(flower)\n",
    "    print(\"The predicted Flower is a \"+flower+\" with accuracy =    \"+str(acc))\n"
   ]
  },
  {
   "cell_type": "code",
   "execution_count": 20,
   "metadata": {},
   "outputs": [
    {
     "name": "stdout",
     "output_type": "stream",
     "text": [
      "Predicting .................................\n",
      "1/1 [==============================] - 0s\n",
      "[[  5.52224009e-08   1.95673465e-07   9.99999762e-01]]\n",
      "2\n",
      "SUNFLOWER\n",
      "The predicted Flower is a SUNFLOWER with accuracy =    1.0\n"
     ]
    }
   ],
   "source": [
    "predict_flower(\"testimage.jpg\")"
   ]
  },
  {
   "cell_type": "code",
   "execution_count": 21,
   "metadata": {},
   "outputs": [
    {
     "name": "stdout",
     "output_type": "stream",
     "text": [
      "Predicting .................................\n",
      "1/1 [==============================] - 0s\n",
      "[[  9.99878645e-01   8.61358349e-05   3.51452582e-05]]\n",
      "0\n",
      "ROSE\n",
      "The predicted Flower is a ROSE with accuracy =    0.999879\n"
     ]
    }
   ],
   "source": [
    "predict_flower(\"testimage2.jpg\")"
   ]
  },
  {
   "cell_type": "code",
   "execution_count": null,
   "metadata": {
    "collapsed": true
   },
   "outputs": [],
   "source": [
    "#THANK YOU!!!"
   ]
  }
 ],
 "metadata": {
  "kernelspec": {
   "display_name": "Python 3",
   "language": "python",
   "name": "python3"
  },
  "language_info": {
   "codemirror_mode": {
    "name": "ipython",
    "version": 3
   },
   "file_extension": ".py",
   "mimetype": "text/x-python",
   "name": "python",
   "nbconvert_exporter": "python",
   "pygments_lexer": "ipython3",
   "version": "3.6.1"
  }
 },
 "nbformat": 4,
 "nbformat_minor": 2
}
